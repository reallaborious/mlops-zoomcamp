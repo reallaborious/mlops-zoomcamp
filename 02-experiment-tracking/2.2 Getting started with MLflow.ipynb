{
 "cells": [
  {
   "cell_type": "markdown",
   "metadata": {},
   "source": [
    "### installing the requirements\n",
    "!pip install -r ../mlops-zoomcamp/02-experiment-tracking/requirements.txt\n",
    "#### to run in cli:\n",
    "#### mlflow ui --backend-store-uri sqlite:///mlflow.dbmlflow --backend-store-uri sqlite:///mlflow.db"
   ]
  }
 ],
 "metadata": {
  "kernelspec": {
   "display_name": "Python 3",
   "language": "python",
   "name": "python3"
  },
  "language_info": {
   "codemirror_mode": {
    "name": "ipython",
    "version": 3
   },
   "file_extension": ".py",
   "mimetype": "text/x-python",
   "name": "python",
   "nbconvert_exporter": "python",
   "pygments_lexer": "ipython3",
   "version": "3.9.undefined"
  }
 },
 "nbformat": 4,
 "nbformat_minor": 2
}
