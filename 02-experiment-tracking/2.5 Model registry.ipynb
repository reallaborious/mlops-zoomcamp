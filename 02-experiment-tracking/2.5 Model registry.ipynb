{
 "cells": [
  {
   "cell_type": "markdown",
   "metadata": {},
   "source": [
    "As of MLflow 2.9.0, Model Stages have been deprecated and will be removed in a future major release (https://www.mlflow.org/docs/latest/model-registry.html#migrating-from-stages)\n",
    "Summary: Stages are rpaced with aliases now. It means that instead of \"models:/regression_model/Production\" there should be something like: \"models:/prod.ml_team.regression_model@champion\""
   ]
  }
 ],
 "metadata": {
  "language_info": {
   "name": "python"
  }
 },
 "nbformat": 4,
 "nbformat_minor": 2
}
