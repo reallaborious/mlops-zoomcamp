{
 "cells": [
  {
   "cell_type": "code",
   "execution_count": 1,
   "metadata": {},
   "outputs": [
    {
     "name": "stdout",
     "output_type": "stream",
     "text": [
      "mlflow, version 2.14.2\n"
     ]
    }
   ],
   "source": [
    "!mlflow --version"
   ]
  },
  {
   "cell_type": "markdown",
   "metadata": {},
   "source": [
    "Q1: mlflow, version 2.14.2"
   ]
  },
  {
   "cell_type": "code",
   "execution_count": 2,
   "metadata": {},
   "outputs": [],
   "source": [
    "dest_path='homework_models'\n",
    "raw_data_path='https://d37ci6vzurychx.cloudfront.net/trip-data/'\n",
    "\n",
    "# !mkdir -p $dest_path\n",
    "# !ls -l"
   ]
  },
  {
   "cell_type": "markdown",
   "metadata": {},
   "source": [
    "import preprocess_data\n",
    "<br>- it isn't needed, because the function run_data_prep doesn't work with import because of 'click' context.\n",
    "It would work if the function was splited to 2, the 1st for import, the 2nd for cli, like:\n",
    "\n",
    "def run_data_prep(..):..\n",
    "\n",
    "@click..\n",
    "\n",
    "dev run_data_prep_cli(..): run_data_prep(..)`\n"
   ]
  },
  {
   "cell_type": "code",
   "execution_count": 3,
   "metadata": {},
   "outputs": [],
   "source": [
    "# doesn't work because there's 'click' context\n",
    "# preprocess_data.run_data_prep(raw_data_path=raw_data_path,dest_path=dest_path)\n",
    "! python preprocess_data.py --raw_data_path=\"$raw_data_path\" --dest_path \"$dest_path\"\n",
    "# ! python preprocess_data.py --help"
   ]
  },
  {
   "cell_type": "markdown",
   "metadata": {},
   "source": [
    "Q2: 4"
   ]
  },
  {
   "cell_type": "markdown",
   "metadata": {},
   "source": [
    "so I took the liberty of changing train.py as it was mentioned above for preprocess_data.py, now it works both with import and with cli."
   ]
  },
  {
   "cell_type": "markdown",
   "metadata": {},
   "source": [
    "! python train.py --help"
   ]
  },
  {
   "cell_type": "markdown",
   "metadata": {},
   "source": [
    "There's no need to wrap in with with mlflow.start_run(), mlflow.autolog() is triggered automaticly."
   ]
  },
  {
   "cell_type": "code",
   "execution_count": 4,
   "metadata": {},
   "outputs": [
    {
     "name": "stderr",
     "output_type": "stream",
     "text": [
      "2024/08/05 11:22:14 WARNING mlflow.utils.autologging_utils: You are using an unsupported version of sklearn. If you encounter errors during autologging, try upgrading / downgrading sklearn to a supported version, or try upgrading MLflow.\n",
      "2024/08/05 11:22:16 INFO mlflow.tracking.fluent: Autologging successfully enabled for sklearn.\n",
      "2024/08/05 11:22:18 INFO mlflow.utils.autologging_utils: Created MLflow autologging run with ID '619f1ee679424f06a45db1be26c6b6d8', which will track hyperparameters, performance metrics, model artifacts, and lineage information for the current sklearn workflow\n",
      "2024/08/05 11:22:18 WARNING mlflow.sklearn: Failed to log training dataset information to MLflow Tracking. Reason: 'numpy.ndarray' object has no attribute 'toarray'\n",
      "2024/08/05 11:22:41 WARNING mlflow.utils.autologging_utils: MLflow autologging encountered a warning: \"C:\\Users\\halffiend\\study\\mlops-zoomcamp\\.venv\\lib\\site-packages\\_distutils_hack\\__init__.py:33: UserWarning: Setuptools is replacing distutils.\"\n"
     ]
    },
    {
     "name": "stdout",
     "output_type": "stream",
     "text": [
      "(RandomForestRegressor(max_depth=10, random_state=0), array([30.31046662, 21.65971103, 24.30442126, ..., 19.72563812,\n",
      "       21.65971103, 14.82687034]), 5.431162180141208)\n"
     ]
    },
    {
     "name": "stderr",
     "output_type": "stream",
     "text": [
      "C:\\Users\\halffiend\\study\\mlops-zoomcamp\\.venv\\lib\\site-packages\\sklearn\\metrics\\_regression.py:492: FutureWarning: 'squared' is deprecated in version 1.4 and will be removed in 1.6. To calculate the root mean squared error, use the function'root_mean_squared_error'.\n",
      "  warnings.warn(\n"
     ]
    }
   ],
   "source": [
    "from train import run_train\n",
    "# rt=run_train(dest_path)\n",
    "rt=run_train(dest_path)\n",
    "print(rt)"
   ]
  },
  {
   "cell_type": "markdown",
   "metadata": {},
   "source": [
    "mlflow ui --backend-store-uri sqlite:///mlflow.db"
   ]
  },
  {
   "cell_type": "markdown",
   "metadata": {},
   "source": [
    "Q3: 2"
   ]
  },
  {
   "cell_type": "markdown",
   "metadata": {},
   "source": [
    "mlflow server --backend-store-uri sqlite:///mlflow.db --default-artifact-root ./artifacts_local"
   ]
  },
  {
   "cell_type": "code",
   "execution_count": 5,
   "metadata": {},
   "outputs": [],
   "source": [
    "# if callable(run_train): del run_train\n",
    "server_uri='http://192.168.0.8:5000'\n",
    "# server_uri='http://127.0.0.1:5000'\n"
   ]
  },
  {
   "cell_type": "code",
   "execution_count": 6,
   "metadata": {},
   "outputs": [
    {
     "name": "stderr",
     "output_type": "stream",
     "text": [
      "2024/08/05 11:24:50 WARNING mlflow.utils.autologging_utils: You are using an unsupported version of sklearn. If you encounter errors during autologging, try upgrading / downgrading sklearn to a supported version, or try upgrading MLflow.\n",
      "2024/08/05 11:24:50 INFO mlflow.tracking.fluent: Autologging successfully enabled for sklearn.\n",
      "2024/08/05 11:24:50 INFO mlflow.utils.autologging_utils: Created MLflow autologging run with ID 'c54157acf4674ea0a89d2b5b11317c47', which will track hyperparameters, performance metrics, model artifacts, and lineage information for the current sklearn workflow\n",
      "2024/08/05 11:24:50 WARNING mlflow.sklearn: Failed to log training dataset information to MLflow Tracking. Reason: 'numpy.ndarray' object has no attribute 'toarray'\n"
     ]
    },
    {
     "name": "stdout",
     "output_type": "stream",
     "text": [
      "(RandomForestRegressor(max_depth=10, random_state=0), array([30.31046662, 21.65971103, 24.30442126, ..., 19.72563812,\n",
      "       21.65971103, 14.82687034]), 5.431162180141208)\n"
     ]
    },
    {
     "name": "stderr",
     "output_type": "stream",
     "text": [
      "C:\\Users\\halffiend\\study\\mlops-zoomcamp\\.venv\\lib\\site-packages\\sklearn\\metrics\\_regression.py:492: FutureWarning: 'squared' is deprecated in version 1.4 and will be removed in 1.6. To calculate the root mean squared error, use the function'root_mean_squared_error'.\n",
      "  warnings.warn(\n"
     ]
    }
   ],
   "source": [
    "if callable(run_train): del run_train\n",
    "from train import run_train\n",
    "rt_s=run_train(dest_path,server_uri)\n",
    "print(rt_s)"
   ]
  },
  {
   "cell_type": "markdown",
   "metadata": {},
   "source": [
    "Q4: default-artifact-root"
   ]
  },
  {
   "cell_type": "code",
   "execution_count": 7,
   "metadata": {},
   "outputs": [],
   "source": [
    "import hpo"
   ]
  },
  {
   "cell_type": "code",
   "execution_count": 8,
   "metadata": {},
   "outputs": [
    {
     "name": "stderr",
     "output_type": "stream",
     "text": [
      "2024/08/05 11:25:18 INFO mlflow.tracking.fluent: Experiment with name 'withoutAutolog_1_20_15' does not exist. Creating a new experiment.\n"
     ]
    },
    {
     "name": "stdout",
     "output_type": "stream",
     "text": [
      "URI is available: http://192.168.0.8:5000\n",
      "  0%|          | 0/15 [00:00<?, ?trial/s, best loss=?]"
     ]
    },
    {
     "name": "stderr",
     "output_type": "stream",
     "text": [
      "2024/08/05 11:25:19 WARNING mlflow.sklearn: Failed to log training dataset information to MLflow Tracking. Reason: 'numpy.ndarray' object has no attribute 'toarray'\n",
      "\n"
     ]
    },
    {
     "name": "stdout",
     "output_type": "stream",
     "text": [
      "  7%|▋         | 1/15 [00:15<03:38, 15.60s/trial, best loss: 5.370086069268862]"
     ]
    },
    {
     "name": "stderr",
     "output_type": "stream",
     "text": [
      "C:\\Users\\halffiend\\study\\mlops-zoomcamp\\.venv\\lib\\site-packages\\sklearn\\metrics\\_regression.py:492: FutureWarning: 'squared' is deprecated in version 1.4 and will be removed in 1.6. To calculate the root mean squared error, use the function'root_mean_squared_error'.\n",
      "  warnings.warn(\n",
      "\n",
      "2024/08/05 11:25:34 WARNING mlflow.sklearn: Failed to log training dataset information to MLflow Tracking. Reason: 'numpy.ndarray' object has no attribute 'toarray'\n",
      "\n"
     ]
    },
    {
     "name": "stdout",
     "output_type": "stream",
     "text": [
      " 13%|█▎        | 2/15 [00:19<01:56,  8.96s/trial, best loss: 5.370086069268862]"
     ]
    },
    {
     "name": "stderr",
     "output_type": "stream",
     "text": [
      "C:\\Users\\halffiend\\study\\mlops-zoomcamp\\.venv\\lib\\site-packages\\sklearn\\metrics\\_regression.py:492: FutureWarning: 'squared' is deprecated in version 1.4 and will be removed in 1.6. To calculate the root mean squared error, use the function'root_mean_squared_error'.\n",
      "  warnings.warn(\n",
      "\n",
      "2024/08/05 11:25:39 WARNING mlflow.sklearn: Failed to log training dataset information to MLflow Tracking. Reason: 'numpy.ndarray' object has no attribute 'toarray'\n",
      "\n"
     ]
    },
    {
     "name": "stdout",
     "output_type": "stream",
     "text": [
      " 20%|██        | 3/15 [00:24<01:23,  6.93s/trial, best loss: 5.370086069268862]"
     ]
    },
    {
     "name": "stderr",
     "output_type": "stream",
     "text": [
      "C:\\Users\\halffiend\\study\\mlops-zoomcamp\\.venv\\lib\\site-packages\\sklearn\\metrics\\_regression.py:492: FutureWarning: 'squared' is deprecated in version 1.4 and will be removed in 1.6. To calculate the root mean squared error, use the function'root_mean_squared_error'.\n",
      "  warnings.warn(\n",
      "\n",
      "2024/08/05 11:25:43 WARNING mlflow.sklearn: Failed to log training dataset information to MLflow Tracking. Reason: 'numpy.ndarray' object has no attribute 'toarray'\n",
      "\n"
     ]
    },
    {
     "name": "stdout",
     "output_type": "stream",
     "text": [
      " 27%|██▋       | 4/15 [00:35<01:35,  8.71s/trial, best loss: 5.357490752366866]"
     ]
    },
    {
     "name": "stderr",
     "output_type": "stream",
     "text": [
      "C:\\Users\\halffiend\\study\\mlops-zoomcamp\\.venv\\lib\\site-packages\\sklearn\\metrics\\_regression.py:492: FutureWarning: 'squared' is deprecated in version 1.4 and will be removed in 1.6. To calculate the root mean squared error, use the function'root_mean_squared_error'.\n",
      "  warnings.warn(\n",
      "\n",
      "2024/08/05 11:25:55 WARNING mlflow.sklearn: Failed to log training dataset information to MLflow Tracking. Reason: 'numpy.ndarray' object has no attribute 'toarray'\n",
      "\n"
     ]
    },
    {
     "name": "stdout",
     "output_type": "stream",
     "text": [
      " 33%|███▎      | 5/15 [00:43<01:22,  8.28s/trial, best loss: 5.357490752366866]"
     ]
    },
    {
     "name": "stderr",
     "output_type": "stream",
     "text": [
      "C:\\Users\\halffiend\\study\\mlops-zoomcamp\\.venv\\lib\\site-packages\\sklearn\\metrics\\_regression.py:492: FutureWarning: 'squared' is deprecated in version 1.4 and will be removed in 1.6. To calculate the root mean squared error, use the function'root_mean_squared_error'.\n",
      "  warnings.warn(\n",
      "\n",
      "2024/08/05 11:26:02 WARNING mlflow.sklearn: Failed to log training dataset information to MLflow Tracking. Reason: 'numpy.ndarray' object has no attribute 'toarray'\n",
      "\n"
     ]
    },
    {
     "name": "stdout",
     "output_type": "stream",
     "text": [
      " 40%|████      | 6/15 [01:00<01:40, 11.18s/trial, best loss: 5.354695072530291]"
     ]
    },
    {
     "name": "stderr",
     "output_type": "stream",
     "text": [
      "C:\\Users\\halffiend\\study\\mlops-zoomcamp\\.venv\\lib\\site-packages\\sklearn\\metrics\\_regression.py:492: FutureWarning: 'squared' is deprecated in version 1.4 and will be removed in 1.6. To calculate the root mean squared error, use the function'root_mean_squared_error'.\n",
      "  warnings.warn(\n",
      "\n",
      "2024/08/05 11:26:19 WARNING mlflow.sklearn: Failed to log training dataset information to MLflow Tracking. Reason: 'numpy.ndarray' object has no attribute 'toarray'\n",
      "\n"
     ]
    },
    {
     "name": "stdout",
     "output_type": "stream",
     "text": [
      " 47%|████▋     | 7/15 [01:16<01:42, 12.84s/trial, best loss: 5.354695072530291]"
     ]
    },
    {
     "name": "stderr",
     "output_type": "stream",
     "text": [
      "C:\\Users\\halffiend\\study\\mlops-zoomcamp\\.venv\\lib\\site-packages\\sklearn\\metrics\\_regression.py:492: FutureWarning: 'squared' is deprecated in version 1.4 and will be removed in 1.6. To calculate the root mean squared error, use the function'root_mean_squared_error'.\n",
      "  warnings.warn(\n",
      "\n",
      "2024/08/05 11:26:35 WARNING mlflow.sklearn: Failed to log training dataset information to MLflow Tracking. Reason: 'numpy.ndarray' object has no attribute 'toarray'\n",
      "\n"
     ]
    },
    {
     "name": "stdout",
     "output_type": "stream",
     "text": [
      " 53%|█████▎    | 8/15 [01:21<01:12, 10.37s/trial, best loss: 5.354695072530291]"
     ]
    },
    {
     "name": "stderr",
     "output_type": "stream",
     "text": [
      "C:\\Users\\halffiend\\study\\mlops-zoomcamp\\.venv\\lib\\site-packages\\sklearn\\metrics\\_regression.py:492: FutureWarning: 'squared' is deprecated in version 1.4 and will be removed in 1.6. To calculate the root mean squared error, use the function'root_mean_squared_error'.\n",
      "  warnings.warn(\n",
      "\n",
      "2024/08/05 11:26:40 WARNING mlflow.sklearn: Failed to log training dataset information to MLflow Tracking. Reason: 'numpy.ndarray' object has no attribute 'toarray'\n",
      "\n"
     ]
    },
    {
     "name": "stdout",
     "output_type": "stream",
     "text": [
      " 60%|██████    | 9/15 [01:33<01:05, 10.87s/trial, best loss: 5.354695072530291]"
     ]
    },
    {
     "name": "stderr",
     "output_type": "stream",
     "text": [
      "C:\\Users\\halffiend\\study\\mlops-zoomcamp\\.venv\\lib\\site-packages\\sklearn\\metrics\\_regression.py:492: FutureWarning: 'squared' is deprecated in version 1.4 and will be removed in 1.6. To calculate the root mean squared error, use the function'root_mean_squared_error'.\n",
      "  warnings.warn(\n",
      "\n",
      "2024/08/05 11:26:52 WARNING mlflow.sklearn: Failed to log training dataset information to MLflow Tracking. Reason: 'numpy.ndarray' object has no attribute 'toarray'\n",
      "\n"
     ]
    },
    {
     "name": "stdout",
     "output_type": "stream",
     "text": [
      " 67%|██████▋   | 10/15 [01:43<00:53, 10.74s/trial, best loss: 5.354695072530291]"
     ]
    },
    {
     "name": "stderr",
     "output_type": "stream",
     "text": [
      "C:\\Users\\halffiend\\study\\mlops-zoomcamp\\.venv\\lib\\site-packages\\sklearn\\metrics\\_regression.py:492: FutureWarning: 'squared' is deprecated in version 1.4 and will be removed in 1.6. To calculate the root mean squared error, use the function'root_mean_squared_error'.\n",
      "  warnings.warn(\n",
      "\n",
      "2024/08/05 11:27:03 WARNING mlflow.sklearn: Failed to log training dataset information to MLflow Tracking. Reason: 'numpy.ndarray' object has no attribute 'toarray'\n",
      "\n"
     ]
    },
    {
     "name": "stdout",
     "output_type": "stream",
     "text": [
      " 73%|███████▎  | 11/15 [01:52<00:40, 10.16s/trial, best loss: 5.335419588556921]"
     ]
    },
    {
     "name": "stderr",
     "output_type": "stream",
     "text": [
      "C:\\Users\\halffiend\\study\\mlops-zoomcamp\\.venv\\lib\\site-packages\\sklearn\\metrics\\_regression.py:492: FutureWarning: 'squared' is deprecated in version 1.4 and will be removed in 1.6. To calculate the root mean squared error, use the function'root_mean_squared_error'.\n",
      "  warnings.warn(\n",
      "\n",
      "2024/08/05 11:27:11 WARNING mlflow.sklearn: Failed to log training dataset information to MLflow Tracking. Reason: 'numpy.ndarray' object has no attribute 'toarray'\n",
      "\n"
     ]
    },
    {
     "name": "stdout",
     "output_type": "stream",
     "text": [
      " 80%|████████  | 12/15 [02:00<00:28,  9.49s/trial, best loss: 5.335419588556921]"
     ]
    },
    {
     "name": "stderr",
     "output_type": "stream",
     "text": [
      "C:\\Users\\halffiend\\study\\mlops-zoomcamp\\.venv\\lib\\site-packages\\sklearn\\metrics\\_regression.py:492: FutureWarning: 'squared' is deprecated in version 1.4 and will be removed in 1.6. To calculate the root mean squared error, use the function'root_mean_squared_error'.\n",
      "  warnings.warn(\n",
      "\n",
      "2024/08/05 11:27:19 WARNING mlflow.sklearn: Failed to log training dataset information to MLflow Tracking. Reason: 'numpy.ndarray' object has no attribute 'toarray'\n",
      "\n"
     ]
    },
    {
     "name": "stdout",
     "output_type": "stream",
     "text": [
      " 87%|████████▋ | 13/15 [02:05<00:16,  8.17s/trial, best loss: 5.335419588556921]"
     ]
    },
    {
     "name": "stderr",
     "output_type": "stream",
     "text": [
      "C:\\Users\\halffiend\\study\\mlops-zoomcamp\\.venv\\lib\\site-packages\\sklearn\\metrics\\_regression.py:492: FutureWarning: 'squared' is deprecated in version 1.4 and will be removed in 1.6. To calculate the root mean squared error, use the function'root_mean_squared_error'.\n",
      "  warnings.warn(\n",
      "\n",
      "2024/08/05 11:27:25 WARNING mlflow.sklearn: Failed to log training dataset information to MLflow Tracking. Reason: 'numpy.ndarray' object has no attribute 'toarray'\n",
      "\n"
     ]
    },
    {
     "name": "stdout",
     "output_type": "stream",
     "text": [
      " 93%|█████████▎| 14/15 [02:14<00:08,  8.24s/trial, best loss: 5.335419588556921]"
     ]
    },
    {
     "name": "stderr",
     "output_type": "stream",
     "text": [
      "C:\\Users\\halffiend\\study\\mlops-zoomcamp\\.venv\\lib\\site-packages\\sklearn\\metrics\\_regression.py:492: FutureWarning: 'squared' is deprecated in version 1.4 and will be removed in 1.6. To calculate the root mean squared error, use the function'root_mean_squared_error'.\n",
      "  warnings.warn(\n",
      "\n",
      "2024/08/05 11:27:33 WARNING mlflow.sklearn: Failed to log training dataset information to MLflow Tracking. Reason: 'numpy.ndarray' object has no attribute 'toarray'\n",
      "\n"
     ]
    },
    {
     "name": "stdout",
     "output_type": "stream",
     "text": [
      "100%|██████████| 15/15 [02:25<00:00,  9.71s/trial, best loss: 5.335419588556921]\n"
     ]
    },
    {
     "name": "stderr",
     "output_type": "stream",
     "text": [
      "C:\\Users\\halffiend\\study\\mlops-zoomcamp\\.venv\\lib\\site-packages\\sklearn\\metrics\\_regression.py:492: FutureWarning: 'squared' is deprecated in version 1.4 and will be removed in 1.6. To calculate the root mean squared error, use the function'root_mean_squared_error'.\n",
      "  warnings.warn(\n",
      "\n"
     ]
    }
   ],
   "source": [
    "# best_result = hpo.run_optimization(data_path='homework_models',num_trials=20, server_uri=server_uri, depth_from=20,depth_to=40)\n",
    "best_result = hpo.run_optimization(data_path='homework_models', server_uri=server_uri,experiment_prefix='withoutAutolog')"
   ]
  },
  {
   "cell_type": "code",
   "execution_count": 9,
   "metadata": {},
   "outputs": [],
   "source": [
    "from mlflow import MlflowClient\n",
    "client = MlflowClient(server_uri)\n"
   ]
  },
  {
   "cell_type": "code",
   "execution_count": 12,
   "metadata": {},
   "outputs": [
    {
     "name": "stdout",
     "output_type": "stream",
     "text": [
      "Run ID: 78443fcd78084540a0d22b2e7c8bdd2c, Status: FINISHED, RMSE: 5.335 (5.335419588556921)\n",
      "Run ID: 6e86c051ef2e48b5b5b56412e865cdff, Status: FINISHED, RMSE: 5.355 (5.354695072530291)\n",
      "Run ID: 4a6ffcac67f64ad1b49e386328db6d70, Status: FINISHED, RMSE: 5.355 (5.355041749098929)\n",
      "Run ID: 7987e000ceda467b9880e85b3b1ceb42, Status: FINISHED, RMSE: 5.357 (5.357490752366866)\n",
      "Run ID: 1f36a6465f8340e4a408b115e3dcdf73, Status: FINISHED, RMSE: 5.363 (5.3633599989832135)\n",
      "Run ID: 6133fc0411394b7c8b6afdb3dbca122c, Status: FINISHED, RMSE: 5.364 (5.363707729018604)\n",
      "Run ID: ee49546d21ec43cb9f6d254dd02d895a, Status: FINISHED, RMSE: 5.370 (5.370086069268862)\n",
      "Run ID: edc92b6fc4994642a26391b700211c1e, Status: FINISHED, RMSE: 5.372 (5.37159585587677)\n",
      "Run ID: e484ea736c354de081a8c39352ef9e04, Status: FINISHED, RMSE: 5.411 (5.410518705423984)\n",
      "Run ID: 97e205b63f5a434caa98961d3f085ba4, Status: FINISHED, RMSE: 5.443 (5.4431408201543805)\n",
      "Run ID: cdae68ec56234f498651effb47804745, Status: FINISHED, RMSE: 5.465 (5.4646431328121015)\n",
      "Run ID: d62341f1889f4ca996e05a5c8dfc3fdb, Status: FINISHED, RMSE: 5.484 (5.484068016681342)\n",
      "Run ID: 8e2347ac0a91465b9f0f88b6f59fd87d, Status: FINISHED, RMSE: 5.538 (5.538069949003994)\n",
      "Run ID: 22857dceb6a4433587b9b5be9c22ca6d, Status: FINISHED, RMSE: 5.618 (5.617650247001616)\n",
      "Run ID: 226789d9ec614b469fba10f7768ffd15, Status: FINISHED, RMSE: 6.336 (6.336044899923993)\n",
      "Lowest RMSE: 5.335419588556921\n"
     ]
    }
   ],
   "source": [
    "runs=client.search_runs(experiment_ids=client.get_experiment_by_name(\"withoutAutolog_1_20_15\").experiment_id,order_by=['metrics.rmse ASC'])\n",
    "for run in runs:\n",
    "    rmse=run.data.metrics['rmse']\n",
    "    print(f\"Run ID: {run.info.run_id}, Status: {run.info.status}, RMSE: {rmse:.3f} ({rmse})\")\n",
    "    \n",
    "print(f'Lowest RMSE: {runs[0].data.metrics[\"rmse\"]}')"
   ]
  },
  {
   "cell_type": "markdown",
   "metadata": {},
   "source": [
    "Q5: 5.335419588556921"
   ]
  },
  {
   "cell_type": "code",
   "execution_count": 23,
   "metadata": {},
   "outputs": [
    {
     "data": {
      "text/plain": [
       "<module 'register_model' from 'C:\\\\Users\\\\halffiend\\\\study\\\\mlops-zoomcamp\\\\02-experiment-tracking\\\\homework\\\\register_model.py'>"
      ]
     },
     "execution_count": 23,
     "metadata": {},
     "output_type": "execute_result"
    }
   ],
   "source": [
    "# import register_model\n",
    "import importlib\n",
    "importlib.reload(register_model)"
   ]
  },
  {
   "cell_type": "code",
   "execution_count": 24,
   "metadata": {},
   "outputs": [
    {
     "name": "stderr",
     "output_type": "stream",
     "text": [
      "2024/08/05 12:05:10 WARNING mlflow.utils.autologging_utils: You are using an unsupported version of sklearn. If you encounter errors during autologging, try upgrading / downgrading sklearn to a supported version, or try upgrading MLflow.\n",
      "2024/08/05 12:05:11 WARNING mlflow.sklearn: Failed to log training dataset information to MLflow Tracking. Reason: 'numpy.ndarray' object has no attribute 'toarray'\n",
      "C:\\Users\\halffiend\\study\\mlops-zoomcamp\\.venv\\lib\\site-packages\\sklearn\\metrics\\_regression.py:492: FutureWarning: 'squared' is deprecated in version 1.4 and will be removed in 1.6. To calculate the root mean squared error, use the function'root_mean_squared_error'.\n",
      "  warnings.warn(\n",
      "C:\\Users\\halffiend\\study\\mlops-zoomcamp\\.venv\\lib\\site-packages\\sklearn\\metrics\\_regression.py:492: FutureWarning: 'squared' is deprecated in version 1.4 and will be removed in 1.6. To calculate the root mean squared error, use the function'root_mean_squared_error'.\n",
      "  warnings.warn(\n",
      "2024/08/05 12:05:22 WARNING mlflow.sklearn: Failed to log training dataset information to MLflow Tracking. Reason: 'numpy.ndarray' object has no attribute 'toarray'\n",
      "C:\\Users\\halffiend\\study\\mlops-zoomcamp\\.venv\\lib\\site-packages\\sklearn\\metrics\\_regression.py:492: FutureWarning: 'squared' is deprecated in version 1.4 and will be removed in 1.6. To calculate the root mean squared error, use the function'root_mean_squared_error'.\n",
      "  warnings.warn(\n",
      "C:\\Users\\halffiend\\study\\mlops-zoomcamp\\.venv\\lib\\site-packages\\sklearn\\metrics\\_regression.py:492: FutureWarning: 'squared' is deprecated in version 1.4 and will be removed in 1.6. To calculate the root mean squared error, use the function'root_mean_squared_error'.\n",
      "  warnings.warn(\n",
      "2024/08/05 12:05:41 WARNING mlflow.sklearn: Failed to log training dataset information to MLflow Tracking. Reason: 'numpy.ndarray' object has no attribute 'toarray'\n",
      "C:\\Users\\halffiend\\study\\mlops-zoomcamp\\.venv\\lib\\site-packages\\sklearn\\metrics\\_regression.py:492: FutureWarning: 'squared' is deprecated in version 1.4 and will be removed in 1.6. To calculate the root mean squared error, use the function'root_mean_squared_error'.\n",
      "  warnings.warn(\n",
      "C:\\Users\\halffiend\\study\\mlops-zoomcamp\\.venv\\lib\\site-packages\\sklearn\\metrics\\_regression.py:492: FutureWarning: 'squared' is deprecated in version 1.4 and will be removed in 1.6. To calculate the root mean squared error, use the function'root_mean_squared_error'.\n",
      "  warnings.warn(\n",
      "2024/08/05 12:05:55 WARNING mlflow.sklearn: Failed to log training dataset information to MLflow Tracking. Reason: 'numpy.ndarray' object has no attribute 'toarray'\n",
      "C:\\Users\\halffiend\\study\\mlops-zoomcamp\\.venv\\lib\\site-packages\\sklearn\\metrics\\_regression.py:492: FutureWarning: 'squared' is deprecated in version 1.4 and will be removed in 1.6. To calculate the root mean squared error, use the function'root_mean_squared_error'.\n",
      "  warnings.warn(\n",
      "C:\\Users\\halffiend\\study\\mlops-zoomcamp\\.venv\\lib\\site-packages\\sklearn\\metrics\\_regression.py:492: FutureWarning: 'squared' is deprecated in version 1.4 and will be removed in 1.6. To calculate the root mean squared error, use the function'root_mean_squared_error'.\n",
      "  warnings.warn(\n",
      "2024/08/05 12:06:08 WARNING mlflow.sklearn: Failed to log training dataset information to MLflow Tracking. Reason: 'numpy.ndarray' object has no attribute 'toarray'\n",
      "C:\\Users\\halffiend\\study\\mlops-zoomcamp\\.venv\\lib\\site-packages\\sklearn\\metrics\\_regression.py:492: FutureWarning: 'squared' is deprecated in version 1.4 and will be removed in 1.6. To calculate the root mean squared error, use the function'root_mean_squared_error'.\n",
      "  warnings.warn(\n",
      "C:\\Users\\halffiend\\study\\mlops-zoomcamp\\.venv\\lib\\site-packages\\sklearn\\metrics\\_regression.py:492: FutureWarning: 'squared' is deprecated in version 1.4 and will be removed in 1.6. To calculate the root mean squared error, use the function'root_mean_squared_error'.\n",
      "  warnings.warn(\n",
      "Registered model 'good-one' already exists. Creating a new version of this model...\n",
      "2024/08/05 12:06:21 INFO mlflow.store.model_registry.abstract_store: Waiting up to 300 seconds for model version to finish creation. Model name: good-one, version 2\n",
      "Created version '2' of model 'good-one'.\n"
     ]
    }
   ],
   "source": [
    "best_run = register_model.run_register_model(data_path=dest_path,tracking_uri=server_uri,hpo_experiment_name=\"withoutAutolog_1_20_15\")"
   ]
  },
  {
   "cell_type": "code",
   "execution_count": 40,
   "metadata": {},
   "outputs": [
    {
     "data": {
      "text/plain": [
       "5.567408012462019"
      ]
     },
     "execution_count": 40,
     "metadata": {},
     "output_type": "execute_result"
    }
   ],
   "source": [
    "best_run.data.metrics['test_rmse']"
   ]
  },
  {
   "cell_type": "markdown",
   "metadata": {},
   "source": [
    "Q6: 5.567"
   ]
  }
 ],
 "metadata": {
  "kernelspec": {
   "display_name": "Python 3 (ipykernel)",
   "language": "python",
   "name": "python3"
  },
  "language_info": {
   "codemirror_mode": {
    "name": "ipython",
    "version": 3
   },
   "file_extension": ".py",
   "mimetype": "text/x-python",
   "name": "python",
   "nbconvert_exporter": "python",
   "pygments_lexer": "ipython3",
   "version": "3.10.11"
  }
 },
 "nbformat": 4,
 "nbformat_minor": 2
}
