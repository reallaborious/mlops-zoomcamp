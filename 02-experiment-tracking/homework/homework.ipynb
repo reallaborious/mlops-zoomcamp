{
 "cells": [
  {
   "cell_type": "code",
   "execution_count": 1,
   "metadata": {},
   "outputs": [
    {
     "name": "stdout",
     "output_type": "stream",
     "text": [
      "mlflow, version 2.14.2\n"
     ]
    }
   ],
   "source": [
    "!mlflow --version"
   ]
  },
  {
   "cell_type": "markdown",
   "metadata": {},
   "source": [
    "Q1: mlflow, version 2.14.2"
   ]
  },
  {
   "cell_type": "code",
   "execution_count": 2,
   "metadata": {},
   "outputs": [
    {
     "name": "stdout",
     "output_type": "stream",
     "text": [
      "total 28\n",
      "-rw-rw-rw-  1 codespace codespace 7562 Jul 30 08:02 homework.ipynb\n",
      "drwxrwxrwx+ 2 codespace codespace 4096 Jul 30 08:18 homework_models\n",
      "-rw-rw-rw-  1 codespace codespace 1841 Jul 30 08:02 hpo.py\n",
      "-rw-rw-rw-  1 codespace codespace 2510 Jul 30 08:02 preprocess_data.py\n",
      "-rw-rw-rw-  1 codespace codespace 2502 Jul 30 08:02 register_model.py\n",
      "-rw-rw-rw-  1 codespace codespace 1225 Jul 30 08:02 train.py\n"
     ]
    }
   ],
   "source": [
    "dest_path='homework_models'\n",
    "raw_data_path='https://d37ci6vzurychx.cloudfront.net/trip-data/'\n",
    "\n",
    "!mkdir -p $dest_path\n",
    "!ls -l"
   ]
  },
  {
   "cell_type": "markdown",
   "metadata": {},
   "source": [
    "import preprocess_data\n",
    "<br>- it isn't needed, because the function run_data_prep doesn't work with import because of 'click' context.\n",
    "It would work if the function was splited to 2, the 1st for import, the 2nd for cli, like:\n",
    "\n",
    "def run_data_prep(..):..\n",
    "\n",
    "@click..\n",
    "\n",
    "dev run_data_prep_cli(..): run_data_prep(..)`\n"
   ]
  },
  {
   "cell_type": "code",
   "execution_count": 3,
   "metadata": {},
   "outputs": [],
   "source": [
    "# doesn't work because there's 'click' context\n",
    "# preprocess_data.run_data_prep(raw_data_path=raw_data_path,dest_path=dest_path)\n",
    "! python preprocess_data.py --raw_data_path=\"$raw_data_path\" --dest_path \"$dest_path\"\n",
    "# ! python preprocess_data.py --help"
   ]
  },
  {
   "cell_type": "markdown",
   "metadata": {},
   "source": [
    "Q2: 4"
   ]
  },
  {
   "cell_type": "markdown",
   "metadata": {},
   "source": [
    "so I took the liberty of changing train.py as it was mentioned above for preprocess_data.py, now it works both with import and with cli."
   ]
  },
  {
   "cell_type": "markdown",
   "metadata": {},
   "source": [
    "! python train.py --help"
   ]
  },
  {
   "cell_type": "markdown",
   "metadata": {},
   "source": [
    "There's no need to wrap in with with mlflow.start_run(), mlflow.autolog() is triggered automaticly."
   ]
  },
  {
   "cell_type": "code",
   "execution_count": 4,
   "metadata": {},
   "outputs": [
    {
     "name": "stderr",
     "output_type": "stream",
     "text": [
      "2024/07/30 08:18:58 WARNING mlflow.utils.autologging_utils: You are using an unsupported version of sklearn. If you encounter errors during autologging, try upgrading / downgrading sklearn to a supported version, or try upgrading MLflow.\n",
      "2024/07/30 08:18:59 INFO mlflow.tracking.fluent: Autologging successfully enabled for sklearn.\n",
      "2024/07/30 08:19:00 INFO mlflow.store.db.utils: Creating initial MLflow database tables...\n",
      "2024/07/30 08:19:00 INFO mlflow.store.db.utils: Updating database tables\n",
      "INFO  [alembic.runtime.migration] Context impl SQLiteImpl.\n",
      "INFO  [alembic.runtime.migration] Will assume non-transactional DDL.\n",
      "INFO  [alembic.runtime.migration] Running upgrade  -> 451aebb31d03, add metric step\n",
      "INFO  [alembic.runtime.migration] Running upgrade 451aebb31d03 -> 90e64c465722, migrate user column to tags\n",
      "INFO  [alembic.runtime.migration] Running upgrade 90e64c465722 -> 181f10493468, allow nulls for metric values\n",
      "INFO  [alembic.runtime.migration] Running upgrade 181f10493468 -> df50e92ffc5e, Add Experiment Tags Table\n",
      "INFO  [alembic.runtime.migration] Running upgrade df50e92ffc5e -> 7ac759974ad8, Update run tags with larger limit\n",
      "INFO  [alembic.runtime.migration] Running upgrade 7ac759974ad8 -> 89d4b8295536, create latest metrics table\n",
      "INFO  [89d4b8295536_create_latest_metrics_table_py] Migration complete!\n",
      "INFO  [alembic.runtime.migration] Running upgrade 89d4b8295536 -> 2b4d017a5e9b, add model registry tables to db\n",
      "INFO  [2b4d017a5e9b_add_model_registry_tables_to_db_py] Adding registered_models and model_versions tables to database.\n",
      "INFO  [2b4d017a5e9b_add_model_registry_tables_to_db_py] Migration complete!\n",
      "INFO  [alembic.runtime.migration] Running upgrade 2b4d017a5e9b -> cfd24bdc0731, Update run status constraint with killed\n",
      "INFO  [alembic.runtime.migration] Running upgrade cfd24bdc0731 -> 0a8213491aaa, drop_duplicate_killed_constraint\n",
      "INFO  [alembic.runtime.migration] Running upgrade 0a8213491aaa -> 728d730b5ebd, add registered model tags table\n",
      "INFO  [alembic.runtime.migration] Running upgrade 728d730b5ebd -> 27a6a02d2cf1, add model version tags table\n",
      "INFO  [alembic.runtime.migration] Running upgrade 27a6a02d2cf1 -> 84291f40a231, add run_link to model_version\n",
      "INFO  [alembic.runtime.migration] Running upgrade 84291f40a231 -> a8c4a736bde6, allow nulls for run_id\n",
      "INFO  [alembic.runtime.migration] Running upgrade a8c4a736bde6 -> 39d1c3be5f05, add_is_nan_constraint_for_metrics_tables_if_necessary\n",
      "INFO  [alembic.runtime.migration] Running upgrade 39d1c3be5f05 -> c48cb773bb87, reset_default_value_for_is_nan_in_metrics_table_for_mysql\n",
      "INFO  [alembic.runtime.migration] Running upgrade c48cb773bb87 -> bd07f7e963c5, create index on run_uuid\n",
      "INFO  [alembic.runtime.migration] Running upgrade bd07f7e963c5 -> 0c779009ac13, add deleted_time field to runs table\n",
      "INFO  [alembic.runtime.migration] Running upgrade 0c779009ac13 -> cc1f77228345, change param value length to 500\n",
      "INFO  [alembic.runtime.migration] Running upgrade cc1f77228345 -> 97727af70f4d, Add creation_time and last_update_time to experiments table\n",
      "INFO  [alembic.runtime.migration] Running upgrade 97727af70f4d -> 3500859a5d39, Add Model Aliases table\n",
      "INFO  [alembic.runtime.migration] Running upgrade 3500859a5d39 -> 7f2a7d5fae7d, add datasets inputs input_tags tables\n",
      "INFO  [alembic.runtime.migration] Running upgrade 7f2a7d5fae7d -> 2d6e25af4d3e, increase max param val length from 500 to 8000\n",
      "INFO  [alembic.runtime.migration] Running upgrade 2d6e25af4d3e -> acf3f17fdcc7, add storage location field to model versions\n",
      "INFO  [alembic.runtime.migration] Running upgrade acf3f17fdcc7 -> 867495a8f9d4, add trace tables\n",
      "INFO  [alembic.runtime.migration] Running upgrade 867495a8f9d4 -> 5b0e9adcef9c, add cascade deletion to trace tables foreign keys\n",
      "INFO  [alembic.runtime.migration] Context impl SQLiteImpl.\n",
      "INFO  [alembic.runtime.migration] Will assume non-transactional DDL.\n",
      "2024/07/30 08:19:03 INFO mlflow.utils.autologging_utils: Created MLflow autologging run with ID 'e0ea2c6aaff1452f93dfcd591fcc3f96', which will track hyperparameters, performance metrics, model artifacts, and lineage information for the current sklearn workflow\n",
      "2024/07/30 08:19:03 WARNING mlflow.sklearn: Failed to log training dataset information to MLflow Tracking. Reason: 'numpy.ndarray' object has no attribute 'toarray'\n",
      "2024/07/30 08:19:17 WARNING mlflow.utils.autologging_utils: MLflow autologging encountered a warning: \"/home/codespace/anaconda3/envs/exp-tracking-env/lib/python3.9/site-packages/_distutils_hack/__init__.py:26: UserWarning: Setuptools is replacing distutils.\"\n"
     ]
    },
    {
     "name": "stdout",
     "output_type": "stream",
     "text": [
      "(RandomForestRegressor(max_depth=10, random_state=0), array([30.31046662, 21.65971103, 24.30442126, ..., 19.72563812,\n",
      "       21.65971103, 14.82687034]), 5.431162180141208)\n"
     ]
    },
    {
     "name": "stderr",
     "output_type": "stream",
     "text": [
      "/home/codespace/anaconda3/envs/exp-tracking-env/lib/python3.9/site-packages/sklearn/metrics/_regression.py:492: FutureWarning: 'squared' is deprecated in version 1.4 and will be removed in 1.6. To calculate the root mean squared error, use the function'root_mean_squared_error'.\n",
      "  warnings.warn(\n"
     ]
    }
   ],
   "source": [
    "from train import run_train\n",
    "# rt=run_train(dest_path)\n",
    "rt=run_train(dest_path)\n",
    "print(rt)"
   ]
  },
  {
   "cell_type": "markdown",
   "metadata": {},
   "source": [
    "mlflow ui --backend-store-uri sqlite:///mlflow.db"
   ]
  },
  {
   "cell_type": "markdown",
   "metadata": {},
   "source": [
    "Q3: 2"
   ]
  },
  {
   "cell_type": "markdown",
   "metadata": {},
   "source": [
    "mlflow server --backend-store-uri sqlite:///mlflow.db --default-artifact-root ./artifacts_local"
   ]
  },
  {
   "cell_type": "code",
   "execution_count": 1,
   "metadata": {},
   "outputs": [],
   "source": [
    "# if callable(run_train): del run_train\n",
    "server_uri='http://127.0.0.1:5000'\n",
    "# server_uri='http://192.168.0.8:5000'\n"
   ]
  },
  {
   "cell_type": "code",
   "execution_count": 5,
   "metadata": {},
   "outputs": [
    {
     "name": "stderr",
     "output_type": "stream",
     "text": [
      "2024/07/30 08:19:20 WARNING mlflow.utils.autologging_utils: You are using an unsupported version of sklearn. If you encounter errors during autologging, try upgrading / downgrading sklearn to a supported version, or try upgrading MLflow.\n",
      "2024/07/30 08:19:20 INFO mlflow.tracking.fluent: Autologging successfully enabled for sklearn.\n",
      "WARNI [urllib3.connectionpool] Retrying (JitteredRetry(total=4, connect=4, read=5, redirect=5, status=5)) after connection broken by 'NewConnectionError('<urllib3.connection.HTTPConnection object at 0x77bdd4244b80>: Failed to establish a new connection: [Errno 111] Connection refused')': /api/2.0/mlflow/runs/create\n",
      "WARNI [urllib3.connectionpool] Retrying (JitteredRetry(total=3, connect=3, read=5, redirect=5, status=5)) after connection broken by 'NewConnectionError('<urllib3.connection.HTTPConnection object at 0x77bdd42449d0>: Failed to establish a new connection: [Errno 111] Connection refused')': /api/2.0/mlflow/runs/create\n",
      "WARNI [urllib3.connectionpool] Retrying (JitteredRetry(total=2, connect=2, read=5, redirect=5, status=5)) after connection broken by 'NewConnectionError('<urllib3.connection.HTTPConnection object at 0x77bdd4244b20>: Failed to establish a new connection: [Errno 111] Connection refused')': /api/2.0/mlflow/runs/create\n",
      "WARNI [urllib3.connectionpool] Retrying (JitteredRetry(total=1, connect=1, read=5, redirect=5, status=5)) after connection broken by 'NewConnectionError('<urllib3.connection.HTTPConnection object at 0x77bdd423b700>: Failed to establish a new connection: [Errno 111] Connection refused')': /api/2.0/mlflow/runs/create\n",
      "WARNI [urllib3.connectionpool] Retrying (JitteredRetry(total=0, connect=0, read=5, redirect=5, status=5)) after connection broken by 'NewConnectionError('<urllib3.connection.HTTPConnection object at 0x77bdd423b5e0>: Failed to establish a new connection: [Errno 111] Connection refused')': /api/2.0/mlflow/runs/create\n",
      "2024/07/30 08:20:31 WARNING mlflow.utils.autologging_utils: Encountered unexpected error during sklearn autologging: API request to http://127.0.0.1:5000/api/2.0/mlflow/runs/create failed with exception HTTPConnectionPool(host='127.0.0.1', port=5000): Max retries exceeded with url: /api/2.0/mlflow/runs/create (Caused by NewConnectionError('<urllib3.connection.HTTPConnection object at 0x77bdcdc159a0>: Failed to establish a new connection: [Errno 111] Connection refused'))\n"
     ]
    },
    {
     "name": "stdout",
     "output_type": "stream",
     "text": [
      "(RandomForestRegressor(max_depth=10, random_state=0), array([30.31046662, 21.65971103, 24.30442126, ..., 19.72563812,\n",
      "       21.65971103, 14.82687034]), 5.431162180141208)\n"
     ]
    },
    {
     "name": "stderr",
     "output_type": "stream",
     "text": [
      "/home/codespace/anaconda3/envs/exp-tracking-env/lib/python3.9/site-packages/sklearn/metrics/_regression.py:492: FutureWarning: 'squared' is deprecated in version 1.4 and will be removed in 1.6. To calculate the root mean squared error, use the function'root_mean_squared_error'.\n",
      "  warnings.warn(\n"
     ]
    }
   ],
   "source": [
    "if callable(run_train): del run_train\n",
    "from train import run_train\n",
    "rt_s=run_train(dest_path,server_uri)\n",
    "print(rt_s)"
   ]
  },
  {
   "cell_type": "markdown",
   "metadata": {},
   "source": [
    "Q4: default-artifact-root"
   ]
  },
  {
   "cell_type": "code",
   "execution_count": 2,
   "metadata": {},
   "outputs": [],
   "source": [
    "import hpo"
   ]
  },
  {
   "cell_type": "code",
   "execution_count": 3,
   "metadata": {},
   "outputs": [
    {
     "name": "stderr",
     "output_type": "stream",
     "text": [
      "2024/08/01 16:22:02 INFO mlflow.tracking.fluent: Experiment with name 'withoutAutolog_10_20_15' does not exist. Creating a new experiment.\n"
     ]
    },
    {
     "name": "stdout",
     "output_type": "stream",
     "text": [
      "  7%|▋         | 1/15 [00:10<02:32, 10.93s/trial, best loss: 5.341708058589234]"
     ]
    },
    {
     "name": "stderr",
     "output_type": "stream",
     "text": [
      "/home/codespace/anaconda3/envs/exp-tracking-env/lib/python3.9/site-packages/sklearn/metrics/_regression.py:492: FutureWarning: 'squared' is deprecated in version 1.4 and will be removed in 1.6. To calculate the root mean squared error, use the function'root_mean_squared_error'.\n",
      "  warnings.warn(\n",
      "\n"
     ]
    },
    {
     "name": "stdout",
     "output_type": "stream",
     "text": [
      " 13%|█▎        | 2/15 [00:14<01:23,  6.42s/trial, best loss: 5.341708058589234]"
     ]
    },
    {
     "name": "stderr",
     "output_type": "stream",
     "text": [
      "/home/codespace/anaconda3/envs/exp-tracking-env/lib/python3.9/site-packages/sklearn/metrics/_regression.py:492: FutureWarning: 'squared' is deprecated in version 1.4 and will be removed in 1.6. To calculate the root mean squared error, use the function'root_mean_squared_error'.\n",
      "  warnings.warn(\n",
      "\n"
     ]
    },
    {
     "name": "stdout",
     "output_type": "stream",
     "text": [
      " 20%|██        | 3/15 [00:16<00:56,  4.70s/trial, best loss: 5.341708058589234]"
     ]
    },
    {
     "name": "stderr",
     "output_type": "stream",
     "text": [
      "/home/codespace/anaconda3/envs/exp-tracking-env/lib/python3.9/site-packages/sklearn/metrics/_regression.py:492: FutureWarning: 'squared' is deprecated in version 1.4 and will be removed in 1.6. To calculate the root mean squared error, use the function'root_mean_squared_error'.\n",
      "  warnings.warn(\n",
      "\n"
     ]
    },
    {
     "name": "stdout",
     "output_type": "stream",
     "text": [
      " 27%|██▋       | 4/15 [00:23<01:00,  5.52s/trial, best loss: 5.332842792557902]"
     ]
    },
    {
     "name": "stderr",
     "output_type": "stream",
     "text": [
      "/home/codespace/anaconda3/envs/exp-tracking-env/lib/python3.9/site-packages/sklearn/metrics/_regression.py:492: FutureWarning: 'squared' is deprecated in version 1.4 and will be removed in 1.6. To calculate the root mean squared error, use the function'root_mean_squared_error'.\n",
      "  warnings.warn(\n",
      "\n"
     ]
    },
    {
     "name": "stdout",
     "output_type": "stream",
     "text": [
      " 33%|███▎      | 5/15 [00:29<00:54,  5.47s/trial, best loss: 5.332842792557902]"
     ]
    },
    {
     "name": "stderr",
     "output_type": "stream",
     "text": [
      "/home/codespace/anaconda3/envs/exp-tracking-env/lib/python3.9/site-packages/sklearn/metrics/_regression.py:492: FutureWarning: 'squared' is deprecated in version 1.4 and will be removed in 1.6. To calculate the root mean squared error, use the function'root_mean_squared_error'.\n",
      "  warnings.warn(\n",
      "\n"
     ]
    },
    {
     "name": "stdout",
     "output_type": "stream",
     "text": [
      " 40%|████      | 6/15 [00:39<01:04,  7.18s/trial, best loss: 5.332842792557902]"
     ]
    },
    {
     "name": "stderr",
     "output_type": "stream",
     "text": [
      "/home/codespace/anaconda3/envs/exp-tracking-env/lib/python3.9/site-packages/sklearn/metrics/_regression.py:492: FutureWarning: 'squared' is deprecated in version 1.4 and will be removed in 1.6. To calculate the root mean squared error, use the function'root_mean_squared_error'.\n",
      "  warnings.warn(\n",
      "\n"
     ]
    },
    {
     "name": "stdout",
     "output_type": "stream",
     "text": [
      " 47%|████▋     | 7/15 [00:50<01:07,  8.48s/trial, best loss: 5.332842792557902]"
     ]
    },
    {
     "name": "stderr",
     "output_type": "stream",
     "text": [
      "/home/codespace/anaconda3/envs/exp-tracking-env/lib/python3.9/site-packages/sklearn/metrics/_regression.py:492: FutureWarning: 'squared' is deprecated in version 1.4 and will be removed in 1.6. To calculate the root mean squared error, use the function'root_mean_squared_error'.\n",
      "  warnings.warn(\n",
      "\n"
     ]
    },
    {
     "name": "stdout",
     "output_type": "stream",
     "text": [
      " 53%|█████▎    | 8/15 [00:53<00:45,  6.54s/trial, best loss: 5.332842792557902]"
     ]
    },
    {
     "name": "stderr",
     "output_type": "stream",
     "text": [
      "/home/codespace/anaconda3/envs/exp-tracking-env/lib/python3.9/site-packages/sklearn/metrics/_regression.py:492: FutureWarning: 'squared' is deprecated in version 1.4 and will be removed in 1.6. To calculate the root mean squared error, use the function'root_mean_squared_error'.\n",
      "  warnings.warn(\n",
      "\n"
     ]
    },
    {
     "name": "stdout",
     "output_type": "stream",
     "text": [
      " 60%|██████    | 9/15 [01:01<00:42,  7.10s/trial, best loss: 5.332842792557902]"
     ]
    },
    {
     "name": "stderr",
     "output_type": "stream",
     "text": [
      "/home/codespace/anaconda3/envs/exp-tracking-env/lib/python3.9/site-packages/sklearn/metrics/_regression.py:492: FutureWarning: 'squared' is deprecated in version 1.4 and will be removed in 1.6. To calculate the root mean squared error, use the function'root_mean_squared_error'.\n",
      "  warnings.warn(\n",
      "\n"
     ]
    },
    {
     "name": "stdout",
     "output_type": "stream",
     "text": [
      " 67%|██████▋   | 10/15 [01:07<00:33,  6.72s/trial, best loss: 5.332842792557902]"
     ]
    },
    {
     "name": "stderr",
     "output_type": "stream",
     "text": [
      "/home/codespace/anaconda3/envs/exp-tracking-env/lib/python3.9/site-packages/sklearn/metrics/_regression.py:492: FutureWarning: 'squared' is deprecated in version 1.4 and will be removed in 1.6. To calculate the root mean squared error, use the function'root_mean_squared_error'.\n",
      "  warnings.warn(\n",
      "\n"
     ]
    },
    {
     "name": "stdout",
     "output_type": "stream",
     "text": [
      " 73%|███████▎  | 11/15 [01:10<00:23,  5.78s/trial, best loss: 5.3326130075924025]"
     ]
    },
    {
     "name": "stderr",
     "output_type": "stream",
     "text": [
      "/home/codespace/anaconda3/envs/exp-tracking-env/lib/python3.9/site-packages/sklearn/metrics/_regression.py:492: FutureWarning: 'squared' is deprecated in version 1.4 and will be removed in 1.6. To calculate the root mean squared error, use the function'root_mean_squared_error'.\n",
      "  warnings.warn(\n",
      "\n"
     ]
    },
    {
     "name": "stdout",
     "output_type": "stream",
     "text": [
      " 80%|████████  | 12/15 [01:17<00:17,  5.98s/trial, best loss: 5.3326130075924025]"
     ]
    },
    {
     "name": "stderr",
     "output_type": "stream",
     "text": [
      "/home/codespace/anaconda3/envs/exp-tracking-env/lib/python3.9/site-packages/sklearn/metrics/_regression.py:492: FutureWarning: 'squared' is deprecated in version 1.4 and will be removed in 1.6. To calculate the root mean squared error, use the function'root_mean_squared_error'.\n",
      "  warnings.warn(\n",
      "\n"
     ]
    },
    {
     "name": "stdout",
     "output_type": "stream",
     "text": [
      " 87%|████████▋ | 13/15 [01:20<00:10,  5.19s/trial, best loss: 5.3326130075924025]"
     ]
    },
    {
     "name": "stderr",
     "output_type": "stream",
     "text": [
      "/home/codespace/anaconda3/envs/exp-tracking-env/lib/python3.9/site-packages/sklearn/metrics/_regression.py:492: FutureWarning: 'squared' is deprecated in version 1.4 and will be removed in 1.6. To calculate the root mean squared error, use the function'root_mean_squared_error'.\n",
      "  warnings.warn(\n",
      "\n"
     ]
    },
    {
     "name": "stdout",
     "output_type": "stream",
     "text": [
      " 93%|█████████▎| 14/15 [01:24<00:04,  4.67s/trial, best loss: 5.3326130075924025]"
     ]
    },
    {
     "name": "stderr",
     "output_type": "stream",
     "text": [
      "/home/codespace/anaconda3/envs/exp-tracking-env/lib/python3.9/site-packages/sklearn/metrics/_regression.py:492: FutureWarning: 'squared' is deprecated in version 1.4 and will be removed in 1.6. To calculate the root mean squared error, use the function'root_mean_squared_error'.\n",
      "  warnings.warn(\n",
      "\n"
     ]
    },
    {
     "name": "stdout",
     "output_type": "stream",
     "text": [
      "100%|██████████| 15/15 [01:29<00:00,  5.95s/trial, best loss: 5.3326130075924025]\n"
     ]
    },
    {
     "name": "stderr",
     "output_type": "stream",
     "text": [
      "/home/codespace/anaconda3/envs/exp-tracking-env/lib/python3.9/site-packages/sklearn/metrics/_regression.py:492: FutureWarning: 'squared' is deprecated in version 1.4 and will be removed in 1.6. To calculate the root mean squared error, use the function'root_mean_squared_error'.\n",
      "  warnings.warn(\n",
      "\n"
     ]
    }
   ],
   "source": [
    "# best_result = hpo.run_optimization(data_path='homework_models',num_trials=20, server_uri=server_uri, depth_from=20,depth_to=40)\n",
    "best_result = hpo.run_optimization(data_path='homework_models', server_uri=server_uri,experiment_prefix='withoutAutolog')"
   ]
  },
  {
   "cell_type": "code",
   "execution_count": 4,
   "metadata": {},
   "outputs": [
    {
     "data": {
      "text/plain": [
       "[<Run: data=<RunData: metrics={'rmse': 5.355041749098929}, params={'max_depth': '20',\n",
       "  'min_samples_leaf': '1',\n",
       "  'min_samples_split': '9',\n",
       "  'n_estimators': '19',\n",
       "  'random_state': '42'}, tags={'mlflow.runName': 'learned-snail-736',\n",
       "  'mlflow.source.name': '/home/codespace/anaconda3/envs/exp-tracking-env/lib/python3.9/site-packages/ipykernel_launcher.py',\n",
       "  'mlflow.source.type': 'LOCAL',\n",
       "  'mlflow.user': 'codespace'}>, info=<RunInfo: artifact_uri='/workspaces/mlops-zoomcamp/artifacts_local/5/76638339dbb54ef59a89ebed498ad4c8/artifacts', end_time=1722529411630, experiment_id='5', lifecycle_stage='active', run_id='76638339dbb54ef59a89ebed498ad4c8', run_name='learned-snail-736', run_uuid='76638339dbb54ef59a89ebed498ad4c8', start_time=1722529406546, status='FINISHED', user_id='codespace'>, inputs=<RunInputs: dataset_inputs=[]>>,\n",
       " <Run: data=<RunData: metrics={'rmse': 5.366116453142637}, params={'max_depth': '19',\n",
       "  'min_samples_leaf': '1',\n",
       "  'min_samples_split': '6',\n",
       "  'n_estimators': '13',\n",
       "  'random_state': '42'}, tags={'mlflow.runName': 'unequaled-bear-475',\n",
       "  'mlflow.source.name': '/home/codespace/anaconda3/envs/exp-tracking-env/lib/python3.9/site-packages/ipykernel_launcher.py',\n",
       "  'mlflow.source.type': 'LOCAL',\n",
       "  'mlflow.user': 'codespace'}>, info=<RunInfo: artifact_uri='/workspaces/mlops-zoomcamp/artifacts_local/5/28e3ebb811fa479b8f0a2473d272c060/artifacts', end_time=1722529406509, experiment_id='5', lifecycle_stage='active', run_id='28e3ebb811fa479b8f0a2473d272c060', run_name='unequaled-bear-475', run_uuid='28e3ebb811fa479b8f0a2473d272c060', start_time=1722529403079, status='FINISHED', user_id='codespace'>, inputs=<RunInputs: dataset_inputs=[]>>,\n",
       " <Run: data=<RunData: metrics={'rmse': 5.377062258116397}, params={'max_depth': '12',\n",
       "  'min_samples_leaf': '3',\n",
       "  'min_samples_split': '8',\n",
       "  'n_estimators': '21',\n",
       "  'random_state': '42'}, tags={'mlflow.runName': 'handsome-vole-700',\n",
       "  'mlflow.source.name': '/home/codespace/anaconda3/envs/exp-tracking-env/lib/python3.9/site-packages/ipykernel_launcher.py',\n",
       "  'mlflow.source.type': 'LOCAL',\n",
       "  'mlflow.user': 'codespace'}>, info=<RunInfo: artifact_uri='/workspaces/mlops-zoomcamp/artifacts_local/5/753d9cc672c943f7b694eb2728cde3f4/artifacts', end_time=1722529403040, experiment_id='5', lifecycle_stage='active', run_id='753d9cc672c943f7b694eb2728cde3f4', run_name='handsome-vole-700', run_uuid='753d9cc672c943f7b694eb2728cde3f4', start_time=1722529399706, status='FINISHED', user_id='codespace'>, inputs=<RunInputs: dataset_inputs=[]>>,\n",
       " <Run: data=<RunData: metrics={'rmse': 5.403841503207378}, params={'max_depth': '13',\n",
       "  'min_samples_leaf': '1',\n",
       "  'min_samples_split': '7',\n",
       "  'n_estimators': '41',\n",
       "  'random_state': '42'}, tags={'mlflow.runName': 'honorable-smelt-227',\n",
       "  'mlflow.source.name': '/home/codespace/anaconda3/envs/exp-tracking-env/lib/python3.9/site-packages/ipykernel_launcher.py',\n",
       "  'mlflow.source.type': 'LOCAL',\n",
       "  'mlflow.user': 'codespace'}>, info=<RunInfo: artifact_uri='/workspaces/mlops-zoomcamp/artifacts_local/5/56d10e35d7dc4c8080cf010a609f6815/artifacts', end_time=1722529399666, experiment_id='5', lifecycle_stage='active', run_id='56d10e35d7dc4c8080cf010a609f6815', run_name='honorable-smelt-227', run_uuid='56d10e35d7dc4c8080cf010a609f6815', start_time=1722529393255, status='FINISHED', user_id='codespace'>, inputs=<RunInputs: dataset_inputs=[]>>,\n",
       " <Run: data=<RunData: metrics={'rmse': 5.3326130075924025}, params={'max_depth': '20',\n",
       "  'min_samples_leaf': '2',\n",
       "  'min_samples_split': '2',\n",
       "  'n_estimators': '11',\n",
       "  'random_state': '42'}, tags={'mlflow.runName': 'resilient-mare-814',\n",
       "  'mlflow.source.name': '/home/codespace/anaconda3/envs/exp-tracking-env/lib/python3.9/site-packages/ipykernel_launcher.py',\n",
       "  'mlflow.source.type': 'LOCAL',\n",
       "  'mlflow.user': 'codespace'}>, info=<RunInfo: artifact_uri='/workspaces/mlops-zoomcamp/artifacts_local/5/c0a7e71f261b42f4a159ca263de78ce3/artifacts', end_time=1722529393218, experiment_id='5', lifecycle_stage='active', run_id='c0a7e71f261b42f4a159ca263de78ce3', run_name='resilient-mare-814', run_uuid='c0a7e71f261b42f4a159ca263de78ce3', start_time=1722529389607, status='FINISHED', user_id='codespace'>, inputs=<RunInputs: dataset_inputs=[]>>,\n",
       " <Run: data=<RunData: metrics={'rmse': 5.337082823905894}, params={'max_depth': '17',\n",
       "  'min_samples_leaf': '2',\n",
       "  'min_samples_split': '6',\n",
       "  'n_estimators': '23',\n",
       "  'random_state': '42'}, tags={'mlflow.runName': 'bald-snake-57',\n",
       "  'mlflow.source.name': '/home/codespace/anaconda3/envs/exp-tracking-env/lib/python3.9/site-packages/ipykernel_launcher.py',\n",
       "  'mlflow.source.type': 'LOCAL',\n",
       "  'mlflow.user': 'codespace'}>, info=<RunInfo: artifact_uri='/workspaces/mlops-zoomcamp/artifacts_local/5/535e44fefcb14a86a847c9bd077a82e1/artifacts', end_time=1722529389570, experiment_id='5', lifecycle_stage='active', run_id='535e44fefcb14a86a847c9bd077a82e1', run_name='bald-snake-57', run_uuid='535e44fefcb14a86a847c9bd077a82e1', start_time=1722529383737, status='FINISHED', user_id='codespace'>, inputs=<RunInputs: dataset_inputs=[]>>,\n",
       " <Run: data=<RunData: metrics={'rmse': 5.379640771967897}, params={'max_depth': '16',\n",
       "  'min_samples_leaf': '1',\n",
       "  'min_samples_split': '8',\n",
       "  'n_estimators': '39',\n",
       "  'random_state': '42'}, tags={'mlflow.runName': 'stylish-seal-255',\n",
       "  'mlflow.source.name': '/home/codespace/anaconda3/envs/exp-tracking-env/lib/python3.9/site-packages/ipykernel_launcher.py',\n",
       "  'mlflow.source.type': 'LOCAL',\n",
       "  'mlflow.user': 'codespace'}>, info=<RunInfo: artifact_uri='/workspaces/mlops-zoomcamp/artifacts_local/5/871d4eb193b646c188f0514600358661/artifacts', end_time=1722529383699, experiment_id='5', lifecycle_stage='active', run_id='871d4eb193b646c188f0514600358661', run_name='stylish-seal-255', run_uuid='871d4eb193b646c188f0514600358661', start_time=1722529375399, status='FINISHED', user_id='codespace'>, inputs=<RunInputs: dataset_inputs=[]>>,\n",
       " <Run: data=<RunData: metrics={'rmse': 5.369797709560207}, params={'max_depth': '13',\n",
       "  'min_samples_leaf': '3',\n",
       "  'min_samples_split': '9',\n",
       "  'n_estimators': '13',\n",
       "  'random_state': '42'}, tags={'mlflow.runName': 'unequaled-bug-537',\n",
       "  'mlflow.source.name': '/home/codespace/anaconda3/envs/exp-tracking-env/lib/python3.9/site-packages/ipykernel_launcher.py',\n",
       "  'mlflow.source.type': 'LOCAL',\n",
       "  'mlflow.user': 'codespace'}>, info=<RunInfo: artifact_uri='/workspaces/mlops-zoomcamp/artifacts_local/5/b7e7adce1e0c4e89bed8f9021e8c0e49/artifacts', end_time=1722529375361, experiment_id='5', lifecycle_stage='active', run_id='b7e7adce1e0c4e89bed8f9021e8c0e49', run_name='unequaled-bug-537', run_uuid='b7e7adce1e0c4e89bed8f9021e8c0e49', start_time=1722529373018, status='FINISHED', user_id='codespace'>, inputs=<RunInputs: dataset_inputs=[]>>,\n",
       " <Run: data=<RunData: metrics={'rmse': 5.358307568641697}, params={'max_depth': '19',\n",
       "  'min_samples_leaf': '1',\n",
       "  'min_samples_split': '10',\n",
       "  'n_estimators': '38',\n",
       "  'random_state': '42'}, tags={'mlflow.runName': 'silent-lynx-986',\n",
       "  'mlflow.source.name': '/home/codespace/anaconda3/envs/exp-tracking-env/lib/python3.9/site-packages/ipykernel_launcher.py',\n",
       "  'mlflow.source.type': 'LOCAL',\n",
       "  'mlflow.user': 'codespace'}>, info=<RunInfo: artifact_uri='/workspaces/mlops-zoomcamp/artifacts_local/5/c3f3043267dc45c397a54c12ed5640c3/artifacts', end_time=1722529372982, experiment_id='5', lifecycle_stage='active', run_id='c3f3043267dc45c397a54c12ed5640c3', run_name='silent-lynx-986', run_uuid='c3f3043267dc45c397a54c12ed5640c3', start_time=1722529361851, status='FINISHED', user_id='codespace'>, inputs=<RunInputs: dataset_inputs=[]>>,\n",
       " <Run: data=<RunData: metrics={'rmse': 5.340126073712567}, params={'max_depth': '17',\n",
       "  'min_samples_leaf': '2',\n",
       "  'min_samples_split': '3',\n",
       "  'n_estimators': '40',\n",
       "  'random_state': '42'}, tags={'mlflow.runName': 'ambitious-ray-813',\n",
       "  'mlflow.source.name': '/home/codespace/anaconda3/envs/exp-tracking-env/lib/python3.9/site-packages/ipykernel_launcher.py',\n",
       "  'mlflow.source.type': 'LOCAL',\n",
       "  'mlflow.user': 'codespace'}>, info=<RunInfo: artifact_uri='/workspaces/mlops-zoomcamp/artifacts_local/5/2c61bdb98faf46ce92eaafb34dbca365/artifacts', end_time=1722529361814, experiment_id='5', lifecycle_stage='active', run_id='2c61bdb98faf46ce92eaafb34dbca365', run_name='ambitious-ray-813', run_uuid='2c61bdb98faf46ce92eaafb34dbca365', start_time=1722529351365, status='FINISHED', user_id='codespace'>, inputs=<RunInputs: dataset_inputs=[]>>,\n",
       " <Run: data=<RunData: metrics={'rmse': 5.3761958739836535}, params={'max_depth': '13',\n",
       "  'min_samples_leaf': '2',\n",
       "  'min_samples_split': '3',\n",
       "  'n_estimators': '30',\n",
       "  'random_state': '42'}, tags={'mlflow.runName': 'capricious-lynx-401',\n",
       "  'mlflow.source.name': '/home/codespace/anaconda3/envs/exp-tracking-env/lib/python3.9/site-packages/ipykernel_launcher.py',\n",
       "  'mlflow.source.type': 'LOCAL',\n",
       "  'mlflow.user': 'codespace'}>, info=<RunInfo: artifact_uri='/workspaces/mlops-zoomcamp/artifacts_local/5/8840616ede464133962fab2339237090/artifacts', end_time=1722529351323, experiment_id='5', lifecycle_stage='active', run_id='8840616ede464133962fab2339237090', run_name='capricious-lynx-401', run_uuid='8840616ede464133962fab2339237090', start_time=1722529345972, status='FINISHED', user_id='codespace'>, inputs=<RunInputs: dataset_inputs=[]>>,\n",
       " <Run: data=<RunData: metrics={'rmse': 5.332842792557902}, params={'max_depth': '17',\n",
       "  'min_samples_leaf': '3',\n",
       "  'min_samples_split': '4',\n",
       "  'n_estimators': '26',\n",
       "  'random_state': '42'}, tags={'mlflow.runName': 'enchanting-steed-585',\n",
       "  'mlflow.source.name': '/home/codespace/anaconda3/envs/exp-tracking-env/lib/python3.9/site-packages/ipykernel_launcher.py',\n",
       "  'mlflow.source.type': 'LOCAL',\n",
       "  'mlflow.user': 'codespace'}>, info=<RunInfo: artifact_uri='/workspaces/mlops-zoomcamp/artifacts_local/5/9527b2e19394432bbf276f474bfb9bc1/artifacts', end_time=1722529345937, experiment_id='5', lifecycle_stage='active', run_id='9527b2e19394432bbf276f474bfb9bc1', run_name='enchanting-steed-585', run_uuid='9527b2e19394432bbf276f474bfb9bc1', start_time=1722529339192, status='FINISHED', user_id='codespace'>, inputs=<RunInputs: dataset_inputs=[]>>,\n",
       " <Run: data=<RunData: metrics={'rmse': 5.379653766849399}, params={'max_depth': '12',\n",
       "  'min_samples_leaf': '3',\n",
       "  'min_samples_split': '3',\n",
       "  'n_estimators': '16',\n",
       "  'random_state': '42'}, tags={'mlflow.runName': 'delightful-hawk-311',\n",
       "  'mlflow.source.name': '/home/codespace/anaconda3/envs/exp-tracking-env/lib/python3.9/site-packages/ipykernel_launcher.py',\n",
       "  'mlflow.source.type': 'LOCAL',\n",
       "  'mlflow.user': 'codespace'}>, info=<RunInfo: artifact_uri='/workspaces/mlops-zoomcamp/artifacts_local/5/524f6c06f5e7480786c1a8066408e9e1/artifacts', end_time=1722529339155, experiment_id='5', lifecycle_stage='active', run_id='524f6c06f5e7480786c1a8066408e9e1', run_name='delightful-hawk-311', run_uuid='524f6c06f5e7480786c1a8066408e9e1', start_time=1722529336548, status='FINISHED', user_id='codespace'>, inputs=<RunInputs: dataset_inputs=[]>>,\n",
       " <Run: data=<RunData: metrics={'rmse': 5.391269199124066}, params={'max_depth': '11',\n",
       "  'min_samples_leaf': '4',\n",
       "  'min_samples_split': '7',\n",
       "  'n_estimators': '22',\n",
       "  'random_state': '42'}, tags={'mlflow.runName': 'wise-crane-233',\n",
       "  'mlflow.source.name': '/home/codespace/anaconda3/envs/exp-tracking-env/lib/python3.9/site-packages/ipykernel_launcher.py',\n",
       "  'mlflow.source.type': 'LOCAL',\n",
       "  'mlflow.user': 'codespace'}>, info=<RunInfo: artifact_uri='/workspaces/mlops-zoomcamp/artifacts_local/5/f6179cc29a9d4c38ad1e223b39ebf0aa/artifacts', end_time=1722529336512, experiment_id='5', lifecycle_stage='active', run_id='f6179cc29a9d4c38ad1e223b39ebf0aa', run_name='wise-crane-233', run_uuid='f6179cc29a9d4c38ad1e223b39ebf0aa', start_time=1722529333278, status='FINISHED', user_id='codespace'>, inputs=<RunInputs: dataset_inputs=[]>>,\n",
       " <Run: data=<RunData: metrics={'rmse': 5.341708058589234}, params={'max_depth': '17',\n",
       "  'min_samples_leaf': '4',\n",
       "  'min_samples_split': '7',\n",
       "  'n_estimators': '43',\n",
       "  'random_state': '42'}, tags={'mlflow.runName': 'peaceful-doe-142',\n",
       "  'mlflow.source.name': '/home/codespace/anaconda3/envs/exp-tracking-env/lib/python3.9/site-packages/ipykernel_launcher.py',\n",
       "  'mlflow.source.type': 'LOCAL',\n",
       "  'mlflow.user': 'codespace'}>, info=<RunInfo: artifact_uri='/workspaces/mlops-zoomcamp/artifacts_local/5/2f733ee1c20a4c8ea808a1feee456593/artifacts', end_time=1722529333237, experiment_id='5', lifecycle_stage='active', run_id='2f733ee1c20a4c8ea808a1feee456593', run_name='peaceful-doe-142', run_uuid='2f733ee1c20a4c8ea808a1feee456593', start_time=1722529322413, status='FINISHED', user_id='codespace'>, inputs=<RunInputs: dataset_inputs=[]>>]"
      ]
     },
     "execution_count": 4,
     "metadata": {},
     "output_type": "execute_result"
    }
   ],
   "source": [
    "from mlflow import MlflowClient\n",
    "client = MlflowClient(server_uri)\n"
   ]
  },
  {
   "cell_type": "code",
   "execution_count": 27,
   "metadata": {},
   "outputs": [
    {
     "name": "stdout",
     "output_type": "stream",
     "text": [
      "Run ID: c0a7e71f261b42f4a159ca263de78ce3, Status: FINISHED, RMSE: 5.333\n",
      "Run ID: 9527b2e19394432bbf276f474bfb9bc1, Status: FINISHED, RMSE: 5.333\n",
      "Run ID: 535e44fefcb14a86a847c9bd077a82e1, Status: FINISHED, RMSE: 5.337\n",
      "Run ID: 2c61bdb98faf46ce92eaafb34dbca365, Status: FINISHED, RMSE: 5.340\n",
      "Run ID: 2f733ee1c20a4c8ea808a1feee456593, Status: FINISHED, RMSE: 5.342\n",
      "Run ID: 76638339dbb54ef59a89ebed498ad4c8, Status: FINISHED, RMSE: 5.355\n",
      "Run ID: c3f3043267dc45c397a54c12ed5640c3, Status: FINISHED, RMSE: 5.358\n",
      "Run ID: 28e3ebb811fa479b8f0a2473d272c060, Status: FINISHED, RMSE: 5.366\n",
      "Run ID: b7e7adce1e0c4e89bed8f9021e8c0e49, Status: FINISHED, RMSE: 5.370\n",
      "Run ID: 8840616ede464133962fab2339237090, Status: FINISHED, RMSE: 5.376\n",
      "Run ID: 753d9cc672c943f7b694eb2728cde3f4, Status: FINISHED, RMSE: 5.377\n",
      "Run ID: 871d4eb193b646c188f0514600358661, Status: FINISHED, RMSE: 5.380\n",
      "Run ID: 524f6c06f5e7480786c1a8066408e9e1, Status: FINISHED, RMSE: 5.380\n",
      "Run ID: f6179cc29a9d4c38ad1e223b39ebf0aa, Status: FINISHED, RMSE: 5.391\n",
      "Run ID: 56d10e35d7dc4c8080cf010a609f6815, Status: FINISHED, RMSE: 5.404\n",
      "Lowest RMSE: 5.3326130075924025\n"
     ]
    }
   ],
   "source": [
    "runs=client.search_runs(experiment_ids=client.get_experiment_by_name(\"withoutAutolog_10_20_15\").experiment_id,order_by=['metrics.rmse ASC'])\n",
    "for run in runs:\n",
    "    print(f\"Run ID: {run.info.run_id}, Status: {run.info.status}, RMSE: {run.data.metrics['rmse']:.3f}\")\n",
    "    \n",
    "print(f'Lowest RMSE: {runs[0].data.metrics[\"rmse\"]}')"
   ]
  },
  {
   "cell_type": "code",
   "execution_count": 18,
   "metadata": {},
   "outputs": [
    {
     "data": {
      "text/plain": [
       "<Run: data=<RunData: metrics={'rmse': 5.3326130075924025}, params={'max_depth': '20',\n",
       " 'min_samples_leaf': '2',\n",
       " 'min_samples_split': '2',\n",
       " 'n_estimators': '11',\n",
       " 'random_state': '42'}, tags={'mlflow.runName': 'resilient-mare-814',\n",
       " 'mlflow.source.name': '/home/codespace/anaconda3/envs/exp-tracking-env/lib/python3.9/site-packages/ipykernel_launcher.py',\n",
       " 'mlflow.source.type': 'LOCAL',\n",
       " 'mlflow.user': 'codespace'}>, info=<RunInfo: artifact_uri='/workspaces/mlops-zoomcamp/artifacts_local/5/c0a7e71f261b42f4a159ca263de78ce3/artifacts', end_time=1722529393218, experiment_id='5', lifecycle_stage='active', run_id='c0a7e71f261b42f4a159ca263de78ce3', run_name='resilient-mare-814', run_uuid='c0a7e71f261b42f4a159ca263de78ce3', start_time=1722529389607, status='FINISHED', user_id='codespace'>, inputs=<RunInputs: dataset_inputs=[]>>"
      ]
     },
     "execution_count": 18,
     "metadata": {},
     "output_type": "execute_result"
    }
   ],
   "source": [
    "runs[0]"
   ]
  },
  {
   "cell_type": "markdown",
   "metadata": {},
   "source": [
    "Q5: 5.3326130075924025"
   ]
  },
  {
   "cell_type": "code",
   "execution_count": null,
   "metadata": {},
   "outputs": [],
   "source": []
  }
 ],
 "metadata": {
  "kernelspec": {
   "display_name": "Python 3 (ipykernel)",
   "language": "python",
   "name": "python3"
  },
  "language_info": {
   "codemirror_mode": {
    "name": "ipython",
    "version": 3
   },
   "file_extension": ".py",
   "mimetype": "text/x-python",
   "name": "python",
   "nbconvert_exporter": "python",
   "pygments_lexer": "ipython3",
   "version": "3.9.19"
  }
 },
 "nbformat": 4,
 "nbformat_minor": 2
}
