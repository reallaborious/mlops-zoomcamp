{
 "cells": [
  {
   "cell_type": "markdown",
   "metadata": {},
   "source": [
    "I assume that it's worth mentioning that it's not so easy make codespaces working on Ubuntu (and should be the same for all other linuxes)."
   ]
  },
  {
   "cell_type": "code",
   "execution_count": 1,
   "metadata": {},
   "outputs": [],
   "source": [
    "import pandas as pd\n",
    "# !pip install pyarrow\n",
    "import seaborn as sns\n",
    "import matplotlib.pyplot as plt\n",
    "import pickle\n"
   ]
  },
  {
   "cell_type": "code",
   "execution_count": 2,
   "metadata": {},
   "outputs": [],
   "source": [
    "from sklearn.feature_extraction  import DictVectorizer\n",
    "from sklearn.linear_model import LinearRegression\n",
    "from sklearn.linear_model import Lasso\n",
    "from sklearn.linear_model import Ridge\n",
    "\n",
    "from sklearn.metrics import mean_squared_error"
   ]
  },
  {
   "cell_type": "code",
   "execution_count": 3,
   "metadata": {},
   "outputs": [],
   "source": [
    "categorical=['PULocationID','DOLocationID']\n",
    "numerical=['trip_distance']"
   ]
  },
  {
   "cell_type": "markdown",
   "metadata": {},
   "source": [
    "There isn't the link https://www.nyc.gov/site/tlc/about/tlc-trip-record-data.page on the github page"
   ]
  },
  {
   "cell_type": "code",
   "execution_count": 4,
   "metadata": {},
   "outputs": [],
   "source": [
    "def read_dataframe(filename):\n",
    "    categorical=['PULocationID','DOLocationID']\n",
    "    df = pd.read_parquet(filename)\n",
    "    print(filename,len(df.columns),df.columns,sep=\"\\n\")\n",
    "\n",
    "    if 'lpep_dropoff_datetime' in df.columns:\n",
    "        date_dropoff_col_name = 'lpep_dropoff_datetime'\n",
    "    elif 'tpep_dropoff_datetime' in df.columns:\n",
    "        date_dropoff_col_name = 'tpep_dropoff_datetime'\n",
    "    else:\n",
    "        print(\"No appropriate drop-off datetime column exists in the dataframe.\")\n",
    "        return None\n",
    "\n",
    "    # Similar check for pickup datetime column\n",
    "    if 'lpep_pickup_datetime' in df.columns:\n",
    "        date_pickup_col_name = 'lpep_pickup_datetime'\n",
    "    elif 'tpep_pickup_datetime' in df.columns:\n",
    "        date_pickup_col_name = 'tpep_pickup_datetime'\n",
    "    else:\n",
    "        print(\"No appropriate pick-up datetime column exists in the dataframe.\")\n",
    "        return None\n",
    "\n",
    "    df[date_dropoff_col_name] = pd.to_datetime(df[date_dropoff_col_name])\n",
    "    df[date_pickup_col_name] = pd.to_datetime(df[date_pickup_col_name])\n",
    "    \n",
    "    df['duration'] = df[date_dropoff_col_name] - df[date_pickup_col_name]\n",
    "    df.duration = df.duration.apply(lambda td: td.total_seconds() / 60 )\n",
    "    # df=df[df.trip_type==2]\n",
    "    # sns.displot(df.duration)\n",
    "    # df= df[(df.duration >= 0)]\n",
    "    print(df.duration.describe(percentiles=[x/10 for x in range(1,9)]+[x/100+.9 for x in range(10)]),df.duration.std())\n",
    "    count=df.count()\n",
    "    df= df[(df.duration >= 1) & (df.duration <=60 )]\n",
    "    print(df.count()/count)\n",
    "\n",
    "    # df.duration.describe(percentiles=[x/10 for x in range(1,9)]+[x/100+.9 for x in range(10)])\n",
    "    df[categorical]=df[categorical].astype(str)\n",
    "    return df\n"
   ]
  },
  {
   "cell_type": "code",
   "execution_count": 5,
   "metadata": {},
   "outputs": [
    {
     "name": "stdout",
     "output_type": "stream",
     "text": [
      "https://d37ci6vzurychx.cloudfront.net/trip-data/yellow_tripdata_2023-01.parquet\n",
      "19\n",
      "Index(['VendorID', 'tpep_pickup_datetime', 'tpep_dropoff_datetime',\n",
      "       'passenger_count', 'trip_distance', 'RatecodeID', 'store_and_fwd_flag',\n",
      "       'PULocationID', 'DOLocationID', 'payment_type', 'fare_amount', 'extra',\n",
      "       'mta_tax', 'tip_amount', 'tolls_amount', 'improvement_surcharge',\n",
      "       'total_amount', 'congestion_surcharge', 'airport_fee'],\n",
      "      dtype='object')\n",
      "count    3.066766e+06\n",
      "mean     1.566900e+01\n",
      "std      4.259435e+01\n",
      "min     -2.920000e+01\n",
      "10%      4.483333e+00\n",
      "20%      6.283333e+00\n",
      "30%      7.950000e+00\n",
      "40%      9.650000e+00\n",
      "50%      1.151667e+01\n",
      "60%      1.373333e+01\n",
      "70%      1.651667e+01\n",
      "80%      2.053333e+01\n",
      "90%      2.794167e+01\n",
      "91%      2.915000e+01\n",
      "92%      3.055000e+01\n",
      "93%      3.216667e+01\n",
      "94%      3.410000e+01\n",
      "95%      3.646667e+01\n",
      "96%      3.945000e+01\n",
      "97%      4.335000e+01\n",
      "98%      4.873333e+01\n",
      "99%      5.725000e+01\n",
      "max      1.002918e+04\n",
      "Name: duration, dtype: float64 42.594351241920904\n",
      "VendorID                 0.981220\n",
      "tpep_pickup_datetime     0.981220\n",
      "tpep_dropoff_datetime    0.981220\n",
      "passenger_count          0.980983\n",
      "trip_distance            0.981220\n",
      "RatecodeID               0.980983\n",
      "store_and_fwd_flag       0.980983\n",
      "PULocationID             0.981220\n",
      "DOLocationID             0.981220\n",
      "payment_type             0.981220\n",
      "fare_amount              0.981220\n",
      "extra                    0.981220\n",
      "mta_tax                  0.981220\n",
      "tip_amount               0.981220\n",
      "tolls_amount             0.981220\n",
      "improvement_surcharge    0.981220\n",
      "total_amount             0.981220\n",
      "congestion_surcharge     0.980983\n",
      "airport_fee              0.980983\n",
      "duration                 0.981220\n",
      "dtype: float64\n",
      "https://d37ci6vzurychx.cloudfront.net/trip-data/yellow_tripdata_2023-02.parquet\n",
      "19\n",
      "Index(['VendorID', 'tpep_pickup_datetime', 'tpep_dropoff_datetime',\n",
      "       'passenger_count', 'trip_distance', 'RatecodeID', 'store_and_fwd_flag',\n",
      "       'PULocationID', 'DOLocationID', 'payment_type', 'fare_amount', 'extra',\n",
      "       'mta_tax', 'tip_amount', 'tolls_amount', 'improvement_surcharge',\n",
      "       'total_amount', 'congestion_surcharge', 'Airport_fee'],\n",
      "      dtype='object')\n",
      "count    2.913955e+06\n",
      "mean     1.601591e+01\n",
      "std      4.284210e+01\n",
      "min     -4.361667e+01\n",
      "10%      4.550000e+00\n",
      "20%      6.400000e+00\n",
      "30%      8.100000e+00\n",
      "40%      9.850000e+00\n",
      "50%      1.180000e+01\n",
      "60%      1.406667e+01\n",
      "70%      1.693333e+01\n",
      "80%      2.103333e+01\n",
      "90%      2.848333e+01\n",
      "91%      2.971667e+01\n",
      "92%      3.111667e+01\n",
      "93%      3.278333e+01\n",
      "94%      3.476667e+01\n",
      "95%      3.721667e+01\n",
      "96%      4.033333e+01\n",
      "97%      4.435000e+01\n",
      "98%      4.990000e+01\n",
      "99%      5.886667e+01\n",
      "max      7.053617e+03\n",
      "Name: duration, dtype: float64 42.84210176105097\n",
      "VendorID                 0.980094\n",
      "tpep_pickup_datetime     0.980094\n",
      "tpep_dropoff_datetime    0.980094\n",
      "passenger_count          0.980143\n",
      "trip_distance            0.980094\n",
      "RatecodeID               0.980143\n",
      "store_and_fwd_flag       0.980143\n",
      "PULocationID             0.980094\n",
      "DOLocationID             0.980094\n",
      "payment_type             0.980094\n",
      "fare_amount              0.980094\n",
      "extra                    0.980094\n",
      "mta_tax                  0.980094\n",
      "tip_amount               0.980094\n",
      "tolls_amount             0.980094\n",
      "improvement_surcharge    0.980094\n",
      "total_amount             0.980094\n",
      "congestion_surcharge     0.980143\n",
      "Airport_fee              0.980143\n",
      "duration                 0.980094\n",
      "dtype: float64\n"
     ]
    }
   ],
   "source": [
    "df_train = read_dataframe('https://d37ci6vzurychx.cloudfront.net/trip-data/yellow_tripdata_2023-01.parquet')\n",
    "df_val =  read_dataframe('https://d37ci6vzurychx.cloudfront.net/trip-data/yellow_tripdata_2023-02.parquet')"
   ]
  },
  {
   "cell_type": "markdown",
   "metadata": {},
   "source": [
    "Q1: 19\n",
    "Q2: 42.59\n",
    "Q3: 98?"
   ]
  },
  {
   "cell_type": "code",
   "execution_count": 6,
   "metadata": {},
   "outputs": [
    {
     "data": {
      "text/plain": [
       "(3009173, 2855951)"
      ]
     },
     "execution_count": 6,
     "metadata": {},
     "output_type": "execute_result"
    }
   ],
   "source": [
    "len(df_train),len(df_val)"
   ]
  },
  {
   "cell_type": "markdown",
   "metadata": {},
   "source": [
    "df_train['PU_DO'] = df_train['PULocationID'] + '_' + df_train['DOLocationID']\n",
    "df_val['PU_DO'] = df_val['PULocationID'] + '_' + df_val['DOLocationID']\n",
    "\n",
    "categorical=['PU_DO']"
   ]
  },
  {
   "cell_type": "code",
   "execution_count": 13,
   "metadata": {},
   "outputs": [],
   "source": [
    "dv=DictVectorizer()\n",
    "train_dicts = df_train[categorical].to_dict(orient='records')\n",
    "X_train=dv.fit_transform(train_dicts)\n",
    "val_dicts = df_val[categorical].to_dict(orient='records')\n",
    "X_val=dv.transform(val_dicts)\n"
   ]
  },
  {
   "cell_type": "markdown",
   "metadata": {},
   "source": [
    "dv=DictVectorizer()\n",
    "train_dicts = df_train[categorical+numerical].to_dict(orient='records')\n",
    "X_train=dv.fit_transform(train_dicts)\n",
    "val_dicts = df_val[categorical+numerical].to_dict(orient='records')\n",
    "X_val=dv.transform(val_dicts)\n"
   ]
  },
  {
   "cell_type": "code",
   "execution_count": 14,
   "metadata": {},
   "outputs": [
    {
     "data": {
      "text/plain": [
       "(2855951, 515)"
      ]
     },
     "execution_count": 14,
     "metadata": {},
     "output_type": "execute_result"
    }
   ],
   "source": [
    "X_val.shape"
   ]
  },
  {
   "cell_type": "markdown",
   "metadata": {},
   "source": [
    "Q4: 515"
   ]
  },
  {
   "cell_type": "code",
   "execution_count": 15,
   "metadata": {},
   "outputs": [],
   "source": [
    "target='duration'\n",
    "y_train=df_train[target].values\n",
    "y_val=df_val[target].values"
   ]
  },
  {
   "cell_type": "code",
   "execution_count": 18,
   "metadata": {},
   "outputs": [
    {
     "data": {
      "text/plain": [
       "7.6492610279057605"
      ]
     },
     "execution_count": 18,
     "metadata": {},
     "output_type": "execute_result"
    }
   ],
   "source": [
    "lr=LinearRegression()\n",
    "lr.fit(X_train, y_train)\n",
    "\n",
    "y_pred = lr.predict(X_train)\n",
    "\n",
    "mean_squared_error(y_train,y_pred,squared=False)"
   ]
  },
  {
   "cell_type": "markdown",
   "metadata": {},
   "source": [
    "Q5: 7.64"
   ]
  },
  {
   "cell_type": "code",
   "execution_count": 19,
   "metadata": {},
   "outputs": [
    {
     "data": {
      "text/plain": [
       "7.81183265470218"
      ]
     },
     "execution_count": 19,
     "metadata": {},
     "output_type": "execute_result"
    }
   ],
   "source": [
    "mean_squared_error(y_val,lr.predict(X_val),squared=False)"
   ]
  },
  {
   "cell_type": "markdown",
   "metadata": {},
   "source": [
    "Q6: 7.81"
   ]
  },
  {
   "cell_type": "markdown",
   "metadata": {},
   "source": [
    "lr=Lasso(alpha=0.0001)\n",
    "lr.fit(X_train, y_train)\n",
    "\n",
    "y_pred = lr.predict(X_val)\n",
    "\n",
    "mean_squared_error(y_val,y_pred,squared=False)"
   ]
  },
  {
   "cell_type": "markdown",
   "metadata": {},
   "source": [
    "lr=Ridge(0.0001)\n",
    "lr.fit(X_train, y_train)\n",
    "\n",
    "y_pred = lr.predict(X_val)\n",
    "\n",
    "mean_squared_error(y_val,y_pred,squared=False)"
   ]
  },
  {
   "cell_type": "code",
   "execution_count": 12,
   "metadata": {},
   "outputs": [],
   "source": [
    "# !mkdir models\n",
    "# with open('models/lin_reg.bin', 'wb') as f_out:\n",
    "#     pickle.dump((dv,lr), f_out)"
   ]
  }
 ],
 "metadata": {
  "kernelspec": {
   "display_name": "Python 3 (ipykernel)",
   "language": "python",
   "name": "python3"
  },
  "language_info": {
   "codemirror_mode": {
    "name": "ipython",
    "version": 3
   },
   "file_extension": ".py",
   "mimetype": "text/x-python",
   "name": "python",
   "nbconvert_exporter": "python",
   "pygments_lexer": "ipython3",
   "version": "3.9.19"
  }
 },
 "nbformat": 4,
 "nbformat_minor": 2
}
